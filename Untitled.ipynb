{
 "cells": [
  {
   "cell_type": "code",
   "execution_count": 11,
   "metadata": {
    "collapsed": false
   },
   "outputs": [
    {
     "name": "stdout",
     "output_type": "stream",
     "text": [
      "0.0329684\n"
     ]
    }
   ],
   "source": [
    "import numpy as np\n",
    "with open(\"energy\", 'rb') as f:\n",
    "    num = np.fromfile(f, dtype=np.float32)\n",
    "#    (num,) = struct.unpack('f', f.read(4))\n",
    "    print (num[0])\n"
   ]
  },
  {
   "cell_type": "code",
   "execution_count": 4,
   "metadata": {
    "collapsed": false
   },
   "outputs": [
    {
     "name": "stdout",
     "output_type": "stream",
     "text": [
      "0.032968372106552124\n"
     ]
    }
   ],
   "source": [
    "import struct\n",
    "with open(\"energy\", 'rb') as f:\n",
    "    (num,) = struct.unpack('f', f.read(4))\n",
    "    print (num)\n"
   ]
  },
  {
   "cell_type": "code",
   "execution_count": 7,
   "metadata": {
    "collapsed": false
   },
   "outputs": [
    {
     "name": "stdout",
     "output_type": "stream",
     "text": [
      "[ 0.03296837  0.07125062  0.07020498 ...,  0.03739602  0.06298394\n",
      "  0.04916497]\n"
     ]
    }
   ],
   "source": [
    "import scipy as sp\n",
    "with open('energy', 'rb') as f:\n",
    "    num = sp.fromfile(f, dtype=sp.float32)\n",
    "    print (num)"
   ]
  },
  {
   "cell_type": "code",
   "execution_count": 8,
   "metadata": {
    "collapsed": false
   },
   "outputs": [
    {
     "data": {
      "text/plain": [
       "10210304"
      ]
     },
     "execution_count": 8,
     "metadata": {},
     "output_type": "execute_result"
    }
   ],
   "source": [
    "len(num)"
   ]
  },
  {
   "cell_type": "code",
   "execution_count": 23,
   "metadata": {
    "collapsed": false
   },
   "outputs": [
    {
     "data": {
      "text/plain": [
       "array([ 0.06162712,  0.09231275,  0.10678292,  0.09966131,  0.05699972,\n",
       "        0.01312093,  0.05169913,  0.06742696,  0.09387287,  0.05402867,\n",
       "        0.02001124,  0.03263421,  0.04389831,  0.09273928,  0.13722014,\n",
       "        0.09779851,  0.01981285,  0.04811572,  0.03918968,  0.02702596,\n",
       "        0.055834  ,  0.08777623,  0.11223743,  0.08659088,  0.0359298 ,\n",
       "        0.04319347,  0.04065434,  0.03862581,  0.08808449,  0.12424942,\n",
       "        0.10146023,  0.0550006 ,  0.01130907,  0.0343034 ,  0.05067271,\n",
       "        0.06419392,  0.07782871,  0.06920508,  0.02615848,  0.05632388,\n",
       "        0.07407729,  0.04317165,  0.04105011,  0.06201969,  0.04175588,\n",
       "        0.0111361 ,  0.04406098,  0.076208  ,  0.09400513,  0.08011647,\n",
       "        0.06916676,  0.06478565,  0.04717768,  0.02639021,  0.02366566,\n",
       "        0.01654229,  0.01660886,  0.03597004,  0.21151094,  0.78956711,\n",
       "        1.18277824,  0.82529587,  0.24796106,  0.01387828,  0.01382101,\n",
       "        0.01263891,  0.01557901,  0.01130188,  0.02143382,  0.0480267 ,\n",
       "        0.07198655,  0.07461984,  0.04183797,  0.04377937,  0.06024393,\n",
       "        0.08172047,  0.07911393,  0.04684372,  0.00920378,  0.01848179,\n",
       "        0.01762289,  0.00473663,  0.03327243,  0.04433149,  0.02453443,\n",
       "        0.04978245,  0.06491537,  0.01959596,  0.04725628,  0.04773282,\n",
       "        0.01660875,  0.05583958,  0.10552877,  0.11979625,  0.11790506,\n",
       "        0.13362145,  0.14914753,  0.15620686,  0.14425318,  0.11435352,\n",
       "        0.10419372,  0.10969476,  0.07354973,  0.13921808,  0.20970412,\n",
       "        0.13391235,  0.0287365 ,  0.0240623 ,  0.02313505,  0.03384554,\n",
       "        0.0449669 ,  0.04738962,  0.07043622,  0.03548077,  0.06051402,\n",
       "        0.10973704,  0.15064406,  0.14342828,  0.08185284,  0.04619752], dtype=float32)"
      ]
     },
     "execution_count": 23,
     "metadata": {},
     "output_type": "execute_result"
    }
   ],
   "source": [
    "ri = 2\n",
    "r=num[(ri-1)*120:ri*120]\n",
    "r"
   ]
  },
  {
   "cell_type": "code",
   "execution_count": 24,
   "metadata": {
    "collapsed": false
   },
   "outputs": [
    {
     "data": {
      "text/plain": [
       "60"
      ]
     },
     "execution_count": 24,
     "metadata": {},
     "output_type": "execute_result"
    }
   ],
   "source": [
    "sp.argmax(r)"
   ]
  },
  {
   "cell_type": "code",
   "execution_count": 25,
   "metadata": {
    "collapsed": false
   },
   "outputs": [
    {
     "data": {
      "text/plain": [
       "1.1641043"
      ]
     },
     "execution_count": 25,
     "metadata": {},
     "output_type": "execute_result"
    }
   ],
   "source": [
    "num[60]"
   ]
  },
  {
   "cell_type": "code",
   "execution_count": 26,
   "metadata": {
    "collapsed": false
   },
   "outputs": [
    {
     "data": {
      "text/plain": [
       "0.74605525"
      ]
     },
     "execution_count": 26,
     "metadata": {},
     "output_type": "execute_result"
    }
   ],
   "source": [
    "num[59]"
   ]
  },
  {
   "cell_type": "code",
   "execution_count": 48,
   "metadata": {
    "collapsed": false
   },
   "outputs": [
    {
     "data": {
      "text/plain": [
       "array([ 0.,  0.,  0., ...,  0.,  0.,  0.], dtype=float32)"
      ]
     },
     "execution_count": 48,
     "metadata": {},
     "output_type": "execute_result"
    }
   ],
   "source": [
    "a = num\n",
    "a=a.clip(.1)-.1\n",
    "a"
   ]
  },
  {
   "cell_type": "code",
   "execution_count": 52,
   "metadata": {
    "collapsed": false
   },
   "outputs": [
    {
     "data": {
      "image/png": "[encoded data removed]",
      "text/plain": [
       "<matplotlib.figure.Figure at 0x7f2db0c60be0>"
      ]
     },
     "metadata": {},
     "output_type": "display_data"
    }
   ],
   "source": [
    "import matplotlib.pyplot as plt\n",
    "%matplotlib inline\n",
    "plt.hist(a, normed=True, bins=50)\n",
    "plt.ylabel('Probability');"
   ]
  },
  {
   "cell_type": "code",
   "execution_count": 55,
   "metadata": {
    "collapsed": false
   },
   "outputs": [
    {
     "data": {
      "text/plain": [
       "[<matplotlib.lines.Line2D at 0x7f2db098e908>]"
      ]
     },
     "execution_count": 55,
     "metadata": {},
     "output_type": "execute_result"
    },
    {
     "data": {
      "image/png": "[encoded data removed]",
      "text/plain": [
       "<matplotlib.figure.Figure at 0x7f2db0cb76d8>"
      ]
     },
     "metadata": {},
     "output_type": "display_data"
    }
   ],
   "source": [
    "plt.plot(a)"
   ]
  },
  {
   "cell_type": "code",
   "execution_count": 61,
   "metadata": {
    "collapsed": false
   },
   "outputs": [
    {
     "data": {
      "text/plain": [
       "array([ 0.,  0.,  0.,  0.], dtype=float32)"
      ]
     },
     "execution_count": 61,
     "metadata": {},
     "output_type": "execute_result"
    }
   ],
   "source": [
    "np.zeros(4,dtype=np.float32)"
   ]
  },
  {
   "cell_type": "code",
   "execution_count": 60,
   "metadata": {
    "collapsed": false
   },
   "outputs": [
    {
     "ename": "NameError",
     "evalue": "name 'array' is not defined",
     "output_type": "error",
     "traceback": [
      "\u001b[0;31m---------------------------------------------------------------------------\u001b[0m",
      "\u001b[0;31mNameError\u001b[0m                                 Traceback (most recent call last)",
      "\u001b[0;32m<ipython-input-60-a7cf24f7419f>\u001b[0m in \u001b[0;36m<module>\u001b[0;34m()\u001b[0m\n\u001b[0;32m----> 1\u001b[0;31m \u001b[0marray\u001b[0m\u001b[0;34m\u001b[0m\u001b[0m\n\u001b[0m",
      "\u001b[0;31mNameError\u001b[0m: name 'array' is not defined"
     ]
    }
   ],
   "source": []
  },
  {
   "cell_type": "code",
   "execution_count": null,
   "metadata": {
    "collapsed": true
   },
   "outputs": [],
   "source": []
  }
 ],
 "metadata": {
  "kernelspec": {
   "display_name": "Python 3",
   "language": "python",
   "name": "python3"
  },
  "language_info": {
   "codemirror_mode": {
    "name": "ipython",
    "version": 3
   },
   "file_extension": ".py",
   "mimetype": "text/x-python",
   "name": "python",
   "nbconvert_exporter": "python",
   "pygments_lexer": "ipython3",
   "version": "3.6.0"
  }
 },
 "nbformat": 4,
 "nbformat_minor": 2
}
